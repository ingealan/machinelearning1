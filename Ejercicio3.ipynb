{
 "cells": [
  {
   "cell_type": "markdown",
   "id": "a7086ff2-71ae-4d21-98b9-8fa3f5c2d67f",
   "metadata": {},
   "source": [
    "<img src=\"img/Recurso-26.png\" width=\"200\">\n",
    "\n",
    "## 01MIAR - Python 101, Funciones\n",
    "\n",
    "![logo](img/python_logo.png)\n",
    "\n",
    "*Alan Solano*"
   ]
  },
  {
   "cell_type": "markdown",
   "id": "7313a175-73b1-47aa-ba26-bd3c1fe74e92",
   "metadata": {},
   "source": [
    "# Ejercicios"
   ]
  },
  {
   "cell_type": "markdown",
   "id": "8cac643b-8c45-4c8e-bb17-97cef8d624a6",
   "metadata": {},
   "source": [
    "1. Escribe una función que reciba como entrada una lista con números y devuelva como resultado una lista con los cuadrados de los números contenidos en la lista de entrada."
   ]
  },
  {
   "cell_type": "code",
   "execution_count": 1,
   "id": "784ed0b1-a0f3-412a-9b99-1e3e6792fa57",
   "metadata": {},
   "outputs": [
    {
     "name": "stdout",
     "output_type": "stream",
     "text": [
      "[4, 9, 16, 25, 36, 64]\n"
     ]
    }
   ],
   "source": [
    "def fun1(a):\n",
    "    li=[]\n",
    "    for num in a:\n",
    "        li.append(num*num)\n",
    "    return li\n",
    "le=[2,3,4,5,6,8]\n",
    "print(fun1(le))"
   ]
  },
  {
   "cell_type": "markdown",
   "id": "c575cbf2-fe8e-4ef8-ac0e-ddce5e491152",
   "metadata": {},
   "source": [
    "2. Escribe una función que reciba números como entrada y devuelva la suma de los mismos. La función debe ser capaz de recibir una cantidad indeterminada de números. La función no debe recibir directamente ningún objeto complejo (lista, conjunto, etc.)."
   ]
  },
  {
   "cell_type": "code",
   "execution_count": 2,
   "id": "0d965b21-cda5-4815-864e-802b6f440979",
   "metadata": {},
   "outputs": [
    {
     "name": "stdout",
     "output_type": "stream",
     "text": [
      "17\n"
     ]
    }
   ],
   "source": [
    "def fun2(*numeros):\n",
    "    total = 0\n",
    "    for nu in numeros:\n",
    "        total +=nu\n",
    "    return total\n",
    "print(fun2(1,10,5,1))"
   ]
  },
  {
   "cell_type": "markdown",
   "id": "0022ab3d-b69b-47d6-8359-ad65cd50e495",
   "metadata": {},
   "source": [
    "3. Escribe una función que reciba un string como entrada y devuelva el string al revés. Ejemplo: si el string de entrada es 'hola', el resultado será 'aloh'.\n"
   ]
  },
  {
   "cell_type": "code",
   "execution_count": 3,
   "id": "0e54735c-df65-4b3c-baa0-707578f4683e",
   "metadata": {},
   "outputs": [
    {
     "name": "stdout",
     "output_type": "stream",
     "text": [
      "senoicnuf\n"
     ]
    }
   ],
   "source": [
    "def fun3(x):\n",
    "    return x[-1::-1]\n",
    "print(fun3('funciones'))"
   ]
  },
  {
   "cell_type": "markdown",
   "id": "60381cbb-13e1-4e95-b75e-1deab0499a67",
   "metadata": {},
   "source": [
    "4. Escribe una función lambda que, al igual que la función desarrollada en el ejercicio anterior, invierta el string recibido como parámetro. Ejemplo: si el string de entrada es 'hola', el resultado será 'aloh'."
   ]
  },
  {
   "cell_type": "code",
   "execution_count": 4,
   "id": "93a43ebc-481b-4dc6-874b-b69922306cbc",
   "metadata": {},
   "outputs": [
    {
     "name": "stdout",
     "output_type": "stream",
     "text": [
      "aloh\n"
     ]
    }
   ],
   "source": [
    "a = lambda x : x[-1::-1]\n",
    "print(a('hola'))"
   ]
  },
  {
   "cell_type": "markdown",
   "id": "464d798e-ab70-4d5c-9881-4445282e2ec9",
   "metadata": {},
   "source": [
    "5. Escribe una función que compruebe si un número se encuentra dentro de un rango específico."
   ]
  },
  {
   "cell_type": "code",
   "execution_count": 5,
   "id": "2070b629-64bc-43ff-b25a-ce8f15de486b",
   "metadata": {},
   "outputs": [
    {
     "name": "stdout",
     "output_type": "stream",
     "text": [
      "El numero 6 está en el rango\n"
     ]
    }
   ],
   "source": [
    "def fun5(w):\n",
    "    if w in range(4,17):\n",
    "        print('El numero',w,'está en el rango')\n",
    "    else:\n",
    "        print('El numero',w,'no esta en el rango')\n",
    "fun5(6)"
   ]
  },
  {
   "cell_type": "markdown",
   "id": "a8f16cfa-4058-402a-b6a5-edff16bdfa19",
   "metadata": {},
   "source": [
    "6. Escribe una función que reciba un número entero positivo como parámetro y devuelva una lista que contenga los 5 primeros múltiplos de dicho número. Por ejemplo, si la función recibe el número 3, devolverá la lista [3, 6, 9, 12, 15]. Si la función recibe un parámetro incorrecto (por ejemplo, un múmero menor o igual a cero), mostrará un mensaje de error por pantalla y devolverá una lista vacía."
   ]
  },
  {
   "cell_type": "code",
   "execution_count": 6,
   "id": "fa1d0c83-35d5-4b47-afd6-8f5f8fe7d46e",
   "metadata": {},
   "outputs": [
    {
     "data": {
      "text/plain": [
       "[5, 10, 15, 20, 25]"
      ]
     },
     "execution_count": 6,
     "metadata": {},
     "output_type": "execute_result"
    }
   ],
   "source": [
    "def fun6(x):\n",
    "    l2= []\n",
    "    if x <= 0:\n",
    "        print('No ingresó un numero mayor a cero')\n",
    "        return\n",
    "    else:\n",
    "        for i in range(1,6):\n",
    "            l2.append(i*x)\n",
    "        return l2\n",
    "fun6(5)"
   ]
  },
  {
   "cell_type": "markdown",
   "id": "58aab603-cb13-4b1f-b657-519ba0ddea81",
   "metadata": {},
   "source": [
    "7. Escribe una función que reciba una lista como parámetro y compruebe si la lista tiene duplicados. La función devolverá True si la lista tiene duplicados y False si no los tiene."
   ]
  },
  {
   "cell_type": "code",
   "execution_count": 7,
   "id": "178ac600-79df-4967-901d-ec0f3e453e5c",
   "metadata": {},
   "outputs": [
    {
     "name": "stdout",
     "output_type": "stream",
     "text": [
      "False\n"
     ]
    }
   ],
   "source": [
    "def fun7(l):\n",
    "  print(len(l) != len(set(l)))\n",
    "\n",
    "lista= [1,2,4,5,6]\n",
    "fun7(lista)"
   ]
  },
  {
   "cell_type": "markdown",
   "id": "85bb3325-90b7-4387-a18e-4398a5095b32",
   "metadata": {},
   "source": [
    "8. Escribe una función lambda que, al igual que la función desarrollada en el ejercicio anterior, reciba una lista como parámetro y compruebe si la lista tiene duplicados. La función devolverá True si la lista tiene duplicados y False si no los tiene."
   ]
  },
  {
   "cell_type": "code",
   "execution_count": 8,
   "id": "d6f32380-d12b-48ab-834d-2a7ec9980f92",
   "metadata": {},
   "outputs": [
    {
     "data": {
      "text/plain": [
       "True"
      ]
     },
     "execution_count": 8,
     "metadata": {},
     "output_type": "execute_result"
    }
   ],
   "source": [
    "a = lambda l : len(l) != len(set(l))\n",
    "l = [1,2,4,5,6,6,7]\n",
    "a(l)"
   ]
  },
  {
   "cell_type": "markdown",
   "id": "b59eb947-345f-468b-a4ce-2f02532c011b",
   "metadata": {},
   "source": [
    "9. Escribe una función que compruebe si un string dado es un palíndromo. Un palíndromo es una secuencia de caracteres que se lee igual de izquierda a derecha que de derecha a izquierda. Por ejemplo, la función devolverá True si recibe el string \"reconocer\" y False si recibe el string \"python\"."
   ]
  },
  {
   "cell_type": "code",
   "execution_count": 9,
   "id": "3dbb6183-a4f3-43ce-98f2-fa9220c06f51",
   "metadata": {},
   "outputs": [
    {
     "name": "stdout",
     "output_type": "stream",
     "text": [
      "True\n"
     ]
    }
   ],
   "source": [
    "def fun9 (x):\n",
    "    a = x[-1::-1]\n",
    "    print(x == a)\n",
    "\n",
    "fun9('reconocer')"
   ]
  },
  {
   "cell_type": "markdown",
   "id": "90da4e9b-ed6f-437a-a1cc-27dc8389b9e8",
   "metadata": {},
   "source": [
    "## Link del repositorio : https://github.com/ingealan/machinelearning1"
   ]
  }
 ],
 "metadata": {
  "kernelspec": {
   "display_name": "Python [conda env:machinelearning1]",
   "language": "python",
   "name": "conda-env-machinelearning1-py"
  },
  "language_info": {
   "codemirror_mode": {
    "name": "ipython",
    "version": 3
   },
   "file_extension": ".py",
   "mimetype": "text/x-python",
   "name": "python",
   "nbconvert_exporter": "python",
   "pygments_lexer": "ipython3",
   "version": "3.11.13"
  }
 },
 "nbformat": 4,
 "nbformat_minor": 5
}
