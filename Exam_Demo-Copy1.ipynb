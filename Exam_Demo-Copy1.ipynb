{
 "cells": [
  {
   "cell_type": "markdown",
   "id": "cffbcd0e-dc00-4547-ac87-ef95eb5bbb51",
   "metadata": {},
   "source": [
    "# Examen Demo"
   ]
  },
  {
   "cell_type": "code",
   "execution_count": 3,
   "id": "8ef7d433-2f37-43b7-95ad-5c65b99f39b9",
   "metadata": {},
   "outputs": [],
   "source": [
    "# Your imports HERE !!!!\n",
    "import numpy as np\n",
    "import pandas as pd"
   ]
  },
  {
   "cell_type": "markdown",
   "id": "c9b31578-ccb1-4e0a-a8f8-e5934eb77244",
   "metadata": {
    "tags": []
   },
   "source": [
    "## 01\n",
    "- Dado un diccionario con una lista de nombres de películas y el año concatenado, crear una función que devuelva un DataFrame con dos columnas:\n",
    "  - Columna 1, el nombre de la película sin el año\n",
    "  - Columna 2, el año de la película"
   ]
  },
  {
   "cell_type": "code",
   "execution_count": 5,
   "id": "43205b0e-36f7-4eae-be56-9a281ae978a5",
   "metadata": {},
   "outputs": [
    {
     "data": {
      "text/html": [
       "<div>\n",
       "<style scoped>\n",
       "    .dataframe tbody tr th:only-of-type {\n",
       "        vertical-align: middle;\n",
       "    }\n",
       "\n",
       "    .dataframe tbody tr th {\n",
       "        vertical-align: top;\n",
       "    }\n",
       "\n",
       "    .dataframe thead th {\n",
       "        text-align: right;\n",
       "    }\n",
       "</style>\n",
       "<table border=\"1\" class=\"dataframe\">\n",
       "  <thead>\n",
       "    <tr style=\"text-align: right;\">\n",
       "      <th></th>\n",
       "      <th>Name</th>\n",
       "      <th>Year</th>\n",
       "    </tr>\n",
       "  </thead>\n",
       "  <tbody>\n",
       "    <tr>\n",
       "      <th>0</th>\n",
       "      <td>Matrix</td>\n",
       "      <td>1999</td>\n",
       "    </tr>\n",
       "    <tr>\n",
       "      <th>1</th>\n",
       "      <td>Cadena Perpetua</td>\n",
       "      <td>1994</td>\n",
       "    </tr>\n",
       "    <tr>\n",
       "      <th>2</th>\n",
       "      <td>Parasitos</td>\n",
       "      <td>2019</td>\n",
       "    </tr>\n",
       "    <tr>\n",
       "      <th>3</th>\n",
       "      <td>Vengadores, Endgame</td>\n",
       "      <td>2019</td>\n",
       "    </tr>\n",
       "    <tr>\n",
       "      <th>4</th>\n",
       "      <td>Interstellar</td>\n",
       "      <td>2014</td>\n",
       "    </tr>\n",
       "    <tr>\n",
       "      <th>5</th>\n",
       "      <td>Django Desencadenado</td>\n",
       "      <td>2012</td>\n",
       "    </tr>\n",
       "    <tr>\n",
       "      <th>6</th>\n",
       "      <td>El Padrino</td>\n",
       "      <td>1972</td>\n",
       "    </tr>\n",
       "    <tr>\n",
       "      <th>7</th>\n",
       "      <td>El Caballero Oscuro</td>\n",
       "      <td>2008</td>\n",
       "    </tr>\n",
       "    <tr>\n",
       "      <th>8</th>\n",
       "      <td>Erase Una Vez En America</td>\n",
       "      <td>1984</td>\n",
       "    </tr>\n",
       "    <tr>\n",
       "      <th>9</th>\n",
       "      <td>El Senyor de los Anillos, La Comunidad del Anillo</td>\n",
       "      <td>2001</td>\n",
       "    </tr>\n",
       "  </tbody>\n",
       "</table>\n",
       "</div>"
      ],
      "text/plain": [
       "                                                Name  Year\n",
       "0                                             Matrix  1999\n",
       "1                                    Cadena Perpetua  1994\n",
       "2                                          Parasitos  2019\n",
       "3                                Vengadores, Endgame  2019\n",
       "4                                       Interstellar  2014\n",
       "5                               Django Desencadenado  2012\n",
       "6                                         El Padrino  1972\n",
       "7                                El Caballero Oscuro  2008\n",
       "8                           Erase Una Vez En America  1984\n",
       "9  El Senyor de los Anillos, La Comunidad del Anillo  2001"
      ]
     },
     "metadata": {},
     "output_type": "display_data"
    }
   ],
   "source": [
    "movies = {'Name': [\"Matrix - 1999\", \"Cadena Perpetua - 1994\", \"Parasitos - 2019\", \"Vengadores, Endgame - 2019\", \"Interstellar - 2014\",\n",
    "                   \"Django Desencadenado - 2012\", \"El Padrino - 1972\", \"El Caballero Oscuro - 2008\", \"Erase Una Vez En America - 1984\",\n",
    "                   \"El Senyor de los Anillos, La Comunidad del Anillo - 2001\"]}\n",
    "expected_output = pd.DataFrame({'Name':[\"Matrix\", \"Cadena Perpetua\", \"Parasitos\", \"Vengadores, Endgame\", \"Interstellar\", \"Django Desencadenado\",\n",
    "                                        \"El Padrino\", \"El Caballero Oscuro\", \"Erase Una Vez En America\", \"El Senyor de los Anillos, La Comunidad del Anillo\"],\n",
    "                                'Year':[\"1999\", \"1994\", \"2019\", \"2019\", \"2014\", \"2012\", \"1972\", \"2008\", \"1984\", \"2001\"]})\n",
    "output = extract_year(movies)   # This will call your function extract_year\n",
    "display(output)\n",
    "assert(expected_output.equals(output))  # This will fail if the result is not as expected"
   ]
  },
  {
   "cell_type": "code",
   "execution_count": 4,
   "id": "7f9d090c-d087-4694-8249-3e89f5e866cb",
   "metadata": {},
   "outputs": [],
   "source": [
    "def extract_year(movies):\n",
    "    nombres= []\n",
    "    anios = []\n",
    "    for dat in movies['Name']:\n",
    "        partes = dat.rsplit(' - ', 1)\n",
    "        nombre = partes[0]\n",
    "        anio = partes[1]\n",
    "        nombres.append(nombre)\n",
    "        anios.append(anio)\n",
    "    return pd.DataFrame({'Name':nombres, 'Year':anios})"
   ]
  },
  {
   "cell_type": "code",
   "execution_count": null,
   "id": "c81e291c-ce4a-4937-b475-020588be38f7",
   "metadata": {},
   "outputs": [],
   "source": []
  },
  {
   "cell_type": "code",
   "execution_count": null,
   "id": "8d998f25-6c78-4312-a11e-06db0db034e6",
   "metadata": {},
   "outputs": [],
   "source": []
  },
  {
   "cell_type": "code",
   "execution_count": null,
   "id": "7636da48-fc19-4102-9146-7d3468de3380",
   "metadata": {},
   "outputs": [],
   "source": []
  },
  {
   "cell_type": "markdown",
   "id": "3168850c-f9bb-4060-b6e3-06813ec86e54",
   "metadata": {},
   "source": [
    "## 02\n",
    "- Crear una función que reciba un array de NumPy y devuelva otro en el cual estén marcados como True los elementos duplicados (a partir de la segunda ocurrencia), y como False los no repetidos o las primeras ocurrencias de los duplicados."
   ]
  },
  {
   "cell_type": "code",
   "execution_count": 7,
   "id": "bcc96612-dff4-4779-b4df-2595aa235309",
   "metadata": {},
   "outputs": [
    {
     "name": "stdout",
     "output_type": "stream",
     "text": [
      "0     False\n",
      "1      True\n",
      "2      True\n",
      "3     False\n",
      "4     False\n",
      "5     False\n",
      "6     False\n",
      "7     False\n",
      "8      True\n",
      "9     False\n",
      "10     True\n",
      "11     True\n",
      "12    False\n",
      "13    False\n",
      "dtype: bool\n"
     ]
    }
   ],
   "source": [
    "numbers = np.array([4, 4, 4, 3, 8, 1, 9, 6, 1, 5, 9, 4, 0, 2])\n",
    "expected_output = np.array([False, True, True, False, False, False, False, False, True, False, True, True, False, False])\n",
    "output = find_duplicates(numbers)   # This calls your function find_duplicates\n",
    "print(output)\n",
    "assert(np.array_equal(expected_output, output))  # This will fail if the result is not as expected"
   ]
  },
  {
   "cell_type": "code",
   "execution_count": 6,
   "id": "76618e23-4928-4040-9f7f-f4b08ff4abb2",
   "metadata": {},
   "outputs": [],
   "source": [
    "def find_duplicates(numbers):\n",
    "    serie = pd.Series(numbers)\n",
    "    return serie.duplicated()"
   ]
  },
  {
   "cell_type": "code",
   "execution_count": null,
   "id": "372b08f9-0bd4-4c31-ba17-9405fb07b08d",
   "metadata": {},
   "outputs": [],
   "source": []
  },
  {
   "cell_type": "code",
   "execution_count": null,
   "id": "1e658612-20b5-4493-ae47-693957d816a8",
   "metadata": {},
   "outputs": [],
   "source": []
  },
  {
   "cell_type": "code",
   "execution_count": null,
   "id": "6ecbdcdf-f18f-4858-b093-cee97e1679b3",
   "metadata": {},
   "outputs": [],
   "source": []
  },
  {
   "cell_type": "markdown",
   "id": "93e1a9cd-ee85-48b0-b5e5-3d37aeeddb6e",
   "metadata": {
    "tags": []
   },
   "source": [
    "## 03\n",
    "- Resolución de dos sistemas de ecuaciones\n",
    "    - $ A : \\begin{cases} -9x +  4y = 20 \\\\ -7y + 16x = 80                         \\end{cases}$\n",
    "    \n",
    "    - $ B : \\begin{cases} x - 2y + 3z = 7 \\\\ 2x + y + z = 4 \\\\ -3x + 2y -2z = -10 \\end{cases}$\n",
    "- Verifica por código los resultados"
   ]
  },
  {
   "cell_type": "code",
   "execution_count": 8,
   "id": "bbcc2811-859f-4023-bdbd-298750502ead",
   "metadata": {},
   "outputs": [
    {
     "name": "stdout",
     "output_type": "stream",
     "text": [
      "True\n",
      "True\n"
     ]
    }
   ],
   "source": [
    "import math\n",
    "import numpy.linalg as linalg\n",
    "\n",
    "a = np.array([[-9,4],[16,-7]])\n",
    "b = np.array([20,80])\n",
    "\n",
    "x,y= linalg.solve(a,b)\n",
    "print(math.isclose(-9*x+4*y,20))\n",
    "print(math.isclose(-7*y+16*x,80))"
   ]
  },
  {
   "cell_type": "code",
   "execution_count": null,
   "id": "4b124337-152c-40be-8034-69fdb365b8d2",
   "metadata": {},
   "outputs": [],
   "source": []
  },
  {
   "cell_type": "markdown",
   "id": "655fe747-7f14-42dd-8a9a-6b532517bede",
   "metadata": {
    "tags": []
   },
   "source": [
    "## 04\n",
    "- Crear un objeto Series con 10 elementos, que contenga más de un tipo básico, con índices de tipo string\n",
    "- Demuestra que los datos con índices posicionales son los mismos que los obtenidos con índices semánticos, seleccionando a través de slicing, al menos 4 elementos de la serie anterior"
   ]
  },
  {
   "cell_type": "code",
   "execution_count": 10,
   "id": "ce7f3e5d-781e-49f5-9ab8-f8e6593ab327",
   "metadata": {},
   "outputs": [
    {
     "name": "stdout",
     "output_type": "stream",
     "text": [
      "a    True\n",
      "b    True\n",
      "c    True\n",
      "d    True\n",
      "dtype: bool\n"
     ]
    }
   ],
   "source": [
    "serie = pd.Series([1,2.1,'tres',True,5,6.7,'siete'], index= list('abcdefg'))\n",
    "print(serie.loc[:'d']== serie.iloc[:4])"
   ]
  },
  {
   "cell_type": "code",
   "execution_count": null,
   "id": "b4774d8f-51f5-410f-8d4c-4c89babfa997",
   "metadata": {},
   "outputs": [],
   "source": []
  },
  {
   "cell_type": "code",
   "execution_count": null,
   "id": "be403e4b-6443-4691-b510-3c6bfe6717af",
   "metadata": {},
   "outputs": [],
   "source": []
  },
  {
   "cell_type": "markdown",
   "id": "3f12a152-8257-491a-9b2f-270607831cc0",
   "metadata": {
    "tags": []
   },
   "source": [
    "## 05\n",
    "- Crear un DataFrame de dimensiones 10x10, con números aleatorios en el rango `[0,20]`\n",
    "- Reemplazar todos aquellos elementos menores de 5 por NaN\n",
    "- Averiguar cuantos elementos tienen Nan por fila"
   ]
  },
  {
   "cell_type": "code",
   "execution_count": 11,
   "id": "e6c62f70-14cb-446c-86eb-5428f36f627f",
   "metadata": {},
   "outputs": [
    {
     "name": "stdout",
     "output_type": "stream",
     "text": [
      "    0   1   2   3   4   5   6   7   8   9\n",
      "0  12  14  16   4   2   1  16   3   7   3\n",
      "1   3   7   5   2  11   4  17   9  11  13\n",
      "2  10   2  10   1   3  17   3   9   7  10\n",
      "3   7  13  15  16   6  11  14  16  17  18\n",
      "4  14  14   7   8   8  19   8   2  10  19\n",
      "5  11   4  14   2  10  12  12  10  12  15\n",
      "6   6  13  14  17  14   0   6  17  15   3\n",
      "7   7   8   7   8   4   4   8  10  14  12\n",
      "8  19   2  16  12   7   4   0  19   1   4\n",
      "9   8   2  19   4  13  14  11   2   2   6\n",
      "      0     1   2     3     4     5     6     7     8     9\n",
      "0  12.0  14.0  16   NaN   NaN   NaN  16.0   NaN   7.0   NaN\n",
      "1   NaN   7.0   5   NaN  11.0   NaN  17.0   9.0  11.0  13.0\n",
      "2  10.0   NaN  10   NaN   NaN  17.0   NaN   9.0   7.0  10.0\n",
      "3   7.0  13.0  15  16.0   6.0  11.0  14.0  16.0  17.0  18.0\n",
      "4  14.0  14.0   7   8.0   8.0  19.0   8.0   NaN  10.0  19.0\n",
      "5  11.0   NaN  14   NaN  10.0  12.0  12.0  10.0  12.0  15.0\n",
      "6   6.0  13.0  14  17.0  14.0   NaN   6.0  17.0  15.0   NaN\n",
      "7   7.0   8.0   7   8.0   NaN   NaN   8.0  10.0  14.0  12.0\n",
      "8  19.0   NaN  16  12.0   7.0   NaN   NaN  19.0   NaN   NaN\n",
      "9   8.0   NaN  19   NaN  13.0  14.0  11.0   NaN   NaN   6.0\n",
      "0    5\n",
      "1    3\n",
      "2    4\n",
      "3    0\n",
      "4    1\n",
      "5    2\n",
      "6    2\n",
      "7    2\n",
      "8    5\n",
      "9    4\n",
      "dtype: int64\n"
     ]
    }
   ],
   "source": [
    "df = pd.DataFrame(np.random.randint(0,20, size=(10,10)))\n",
    "print(df)\n",
    "df [df<5] = np.nan\n",
    "print(df)\n",
    "print(df.isnull().sum(axis=1))"
   ]
  },
  {
   "cell_type": "code",
   "execution_count": null,
   "id": "2b967dcc-ceb1-4778-8a7f-e243e7120830",
   "metadata": {},
   "outputs": [],
   "source": []
  },
  {
   "cell_type": "code",
   "execution_count": null,
   "id": "29df4396-d0fe-46cb-a8bc-bb16a1bbe5e0",
   "metadata": {},
   "outputs": [],
   "source": []
  },
  {
   "cell_type": "markdown",
   "id": "8ba8d87a-190e-48ab-9235-04d875ef994e",
   "metadata": {
    "tags": []
   },
   "source": [
    "## 06\n",
    "- Dada una lista de elementos, crea una función que devuelva un dataframe sin los elementos duplicados"
   ]
  },
  {
   "cell_type": "code",
   "execution_count": 13,
   "id": "18d7bb34-b613-497e-b59b-aca2ec09863d",
   "metadata": {},
   "outputs": [
    {
     "data": {
      "text/html": [
       "<div>\n",
       "<style scoped>\n",
       "    .dataframe tbody tr th:only-of-type {\n",
       "        vertical-align: middle;\n",
       "    }\n",
       "\n",
       "    .dataframe tbody tr th {\n",
       "        vertical-align: top;\n",
       "    }\n",
       "\n",
       "    .dataframe thead th {\n",
       "        text-align: right;\n",
       "    }\n",
       "</style>\n",
       "<table border=\"1\" class=\"dataframe\">\n",
       "  <thead>\n",
       "    <tr style=\"text-align: right;\">\n",
       "      <th></th>\n",
       "      <th>0</th>\n",
       "    </tr>\n",
       "  </thead>\n",
       "  <tbody>\n",
       "    <tr>\n",
       "      <th>0</th>\n",
       "      <td>a</td>\n",
       "    </tr>\n",
       "    <tr>\n",
       "      <th>1</th>\n",
       "      <td>b</td>\n",
       "    </tr>\n",
       "    <tr>\n",
       "      <th>2</th>\n",
       "      <td>c</td>\n",
       "    </tr>\n",
       "    <tr>\n",
       "      <th>3</th>\n",
       "      <td>g</td>\n",
       "    </tr>\n",
       "  </tbody>\n",
       "</table>\n",
       "</div>"
      ],
      "text/plain": [
       "   0\n",
       "0  a\n",
       "1  b\n",
       "2  c\n",
       "3  g"
      ]
     },
     "metadata": {},
     "output_type": "display_data"
    },
    {
     "data": {
      "text/html": [
       "<div>\n",
       "<style scoped>\n",
       "    .dataframe tbody tr th:only-of-type {\n",
       "        vertical-align: middle;\n",
       "    }\n",
       "\n",
       "    .dataframe tbody tr th {\n",
       "        vertical-align: top;\n",
       "    }\n",
       "\n",
       "    .dataframe thead th {\n",
       "        text-align: right;\n",
       "    }\n",
       "</style>\n",
       "<table border=\"1\" class=\"dataframe\">\n",
       "  <thead>\n",
       "    <tr style=\"text-align: right;\">\n",
       "      <th></th>\n",
       "      <th>0</th>\n",
       "    </tr>\n",
       "  </thead>\n",
       "  <tbody>\n",
       "    <tr>\n",
       "      <th>0</th>\n",
       "      <td>a</td>\n",
       "    </tr>\n",
       "    <tr>\n",
       "      <th>1</th>\n",
       "      <td>b</td>\n",
       "    </tr>\n",
       "    <tr>\n",
       "      <th>2</th>\n",
       "      <td>c</td>\n",
       "    </tr>\n",
       "    <tr>\n",
       "      <th>3</th>\n",
       "      <td>g</td>\n",
       "    </tr>\n",
       "  </tbody>\n",
       "</table>\n",
       "</div>"
      ],
      "text/plain": [
       "   0\n",
       "0  a\n",
       "1  b\n",
       "2  c\n",
       "3  g"
      ]
     },
     "metadata": {},
     "output_type": "display_data"
    }
   ],
   "source": [
    "serie = ['a','b','c','a','c','a','g']\n",
    "expected_output = pd.DataFrame(['a','b','c','g'])\n",
    "output = remove_duplicates(serie)   # This will call tour function remove_duplicates\n",
    "display(output)\n",
    "display(expected_output)\n",
    "assert(expected_output.equals(output))  # This will fail if the result is not as expected"
   ]
  },
  {
   "cell_type": "code",
   "execution_count": 12,
   "id": "ee636cf0-9bff-497e-b4d9-ab42ac4b166a",
   "metadata": {},
   "outputs": [],
   "source": [
    "def remove_duplicates(serie):\n",
    "    return pd.DataFrame(np.unique(serie))"
   ]
  },
  {
   "cell_type": "code",
   "execution_count": null,
   "id": "71fcf4e8-2612-49ac-884e-2bb2fd4fbea8",
   "metadata": {},
   "outputs": [],
   "source": []
  },
  {
   "cell_type": "code",
   "execution_count": null,
   "id": "5bc59b02-ff0a-4de3-864e-2c21ce5d8536",
   "metadata": {},
   "outputs": [],
   "source": []
  },
  {
   "cell_type": "markdown",
   "id": "ae093f1d-b4e5-4ac3-a0a8-c6aecb8a084d",
   "metadata": {
    "tags": []
   },
   "source": [
    "## 08\n",
    "- Crear una función que reciba una Serie de Pandas y devuelva esa misma serie, reemplazando los espacios en blanco por el carácter menos frecuente en dicha serie."
   ]
  },
  {
   "cell_type": "code",
   "execution_count": 15,
   "id": "02390a36-6e74-4e34-b46a-e1612771863e",
   "metadata": {},
   "outputs": [
    {
     "name": "stdout",
     "output_type": "stream",
     "text": [
      "0     b\n",
      "1     b\n",
      "2     a\n",
      "3     e\n",
      "4     c\n",
      "5     a\n",
      "6     b\n",
      "7     c\n",
      "8     e\n",
      "9     f\n",
      "10    a\n",
      "11    a\n",
      "12    b\n",
      "13    b\n",
      "14    a\n",
      "15    e\n",
      "16    a\n",
      "17    a\n",
      "18    c\n",
      "19    b\n",
      "20    b\n",
      "21    f\n",
      "22    e\n",
      "dtype: object\n"
     ]
    }
   ],
   "source": [
    "serie = pd.Series(list('bba cabc faabba aacbbfe'))\n",
    "expected_output = pd.Series(list('bbaecabcefaabbaeaacbbfe'))\n",
    "output = clean_whitespace_replace(serie)  # This calls your function clean_whitespace_replace\n",
    "print(output)\n",
    "assert(expected_output.equals(output))  # This will fail if result is not as expected"
   ]
  },
  {
   "cell_type": "code",
   "execution_count": 14,
   "id": "0472c9a4-ce23-42e2-9090-ee4695d6057a",
   "metadata": {},
   "outputs": [],
   "source": [
    "def clean_whitespace_replace(serie):\n",
    "    less_freq = serie.value_counts().idxmin()\n",
    "    serie[ serie == ' ']= less_freq\n",
    "    return serie"
   ]
  },
  {
   "cell_type": "code",
   "execution_count": null,
   "id": "d3742c03-d7d9-4918-b602-55129406f0e9",
   "metadata": {},
   "outputs": [],
   "source": []
  },
  {
   "cell_type": "code",
   "execution_count": null,
   "id": "f693bcc3-d91c-47c7-b3f1-d119a63ec51d",
   "metadata": {},
   "outputs": [],
   "source": []
  }
 ],
 "metadata": {
  "kernelspec": {
   "display_name": "Python 3 (ipykernel)",
   "language": "python",
   "name": "python3"
  },
  "language_info": {
   "codemirror_mode": {
    "name": "ipython",
    "version": 3
   },
   "file_extension": ".py",
   "mimetype": "text/x-python",
   "name": "python",
   "nbconvert_exporter": "python",
   "pygments_lexer": "ipython3",
   "version": "3.11.13"
  }
 },
 "nbformat": 4,
 "nbformat_minor": 5
}
