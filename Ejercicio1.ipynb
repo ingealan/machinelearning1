{
 "cells": [
  {
   "cell_type": "markdown",
   "id": "a7086ff2-71ae-4d21-98b9-8fa3f5c2d67f",
   "metadata": {},
   "source": [
    "<img src=\"img/Recurso-26.png\" width=\"200\">\n",
    "\n",
    "## 01MIAR - Python 101, Data Types\n",
    "\n",
    "![logo](img/python_logo.png)\n",
    "\n",
    "*Alan Solano*"
   ]
  },
  {
   "cell_type": "markdown",
   "id": "7313a175-73b1-47aa-ba26-bd3c1fe74e92",
   "metadata": {},
   "source": [
    "# Ejercicios"
   ]
  },
  {
   "cell_type": "markdown",
   "id": "8cac643b-8c45-4c8e-bb17-97cef8d624a6",
   "metadata": {},
   "source": [
    "1. Escribe un programa que muestre por pantalla la concatenación de un número y una cadena de caracteres. Para obtener esta concatenación puedes usar uno de los operadores explicados en este tema. Ejemplo: dado el número 3 y la cadena 'abc', el programa mostrará la cadena '3abc'."
   ]
  },
  {
   "cell_type": "code",
   "execution_count": 1,
   "id": "784ed0b1-a0f3-412a-9b99-1e3e6792fa57",
   "metadata": {},
   "outputs": [
    {
     "name": "stdout",
     "output_type": "stream",
     "text": [
      "123abc\n"
     ]
    }
   ],
   "source": [
    "a = 123\n",
    "b = 'abc'\n",
    "c = str(a) + b\n",
    "print (c)"
   ]
  },
  {
   "cell_type": "markdown",
   "id": "c575cbf2-fe8e-4ef8-ac0e-ddce5e491152",
   "metadata": {},
   "source": [
    "2. Escribe un programa que muestre por pantalla un valor booleano que indique si un número entero *N* está contenido en un intervalo semiabierto *[a,b)*, el cual establece una cota inferior *a* (inclusive) y una cota superior *b* (exclusive) para *N*."
   ]
  },
  {
   "cell_type": "code",
   "execution_count": 2,
   "id": "0d965b21-cda5-4815-864e-802b6f440979",
   "metadata": {},
   "outputs": [
    {
     "name": "stdout",
     "output_type": "stream",
     "text": [
      "True\n"
     ]
    }
   ],
   "source": [
    "a , b , n, boo = 4, 9, 5, False\n",
    "if n >=a and n < b:\n",
    "    boo = True\n",
    "print(boo)"
   ]
  },
  {
   "cell_type": "markdown",
   "id": "0022ab3d-b69b-47d6-8359-ad65cd50e495",
   "metadata": {},
   "source": [
    "3. Escribe un programa que, dado dos strings *S1* y *S2* y dos números enteros *N1* y *N2*, determine si el substring que en *S1* se extiende desde la posición *N1* a la *N2* (ambos inclusive) está contenido en *S2*."
   ]
  },
  {
   "cell_type": "code",
   "execution_count": 3,
   "id": "0e54735c-df65-4b3c-baa0-707578f4683e",
   "metadata": {},
   "outputs": [
    {
     "name": "stdout",
     "output_type": "stream",
     "text": [
      "El substring  ero  está dentro de el string ero\n"
     ]
    }
   ],
   "source": [
    "s1, s2 = 'bsbero','ero' \n",
    "n1, n2 =  3, 5\n",
    "sub = s1[n1:n2+1]\n",
    "if sub in s2:\n",
    "    print('El substring ',sub,' está dentro de el string',s2)\n",
    "else:\n",
    "    print('El substring ',sub,' NO está dentro de el string',s2)"
   ]
  },
  {
   "cell_type": "markdown",
   "id": "60381cbb-13e1-4e95-b75e-1deab0499a67",
   "metadata": {},
   "source": [
    "4. Dada una *lista* con elementos duplicados, escribir un programa que muestre una nueva *lista* con el mismo contenido que la primera pero sin elementos duplicados."
   ]
  },
  {
   "cell_type": "code",
   "execution_count": 4,
   "id": "93a43ebc-481b-4dc6-874b-b69922306cbc",
   "metadata": {},
   "outputs": [
    {
     "name": "stdout",
     "output_type": "stream",
     "text": [
      "[1, 2, 3, 4, 5, 6]\n"
     ]
    }
   ],
   "source": [
    "l1 = [1,2,2,3,3,4,5,6]\n",
    "l2 = []\n",
    "for i in l1:\n",
    "    if i not in l2:\n",
    "        l2 += [i]\n",
    "print(l2)"
   ]
  },
  {
   "cell_type": "markdown",
   "id": "464d798e-ab70-4d5c-9881-4445282e2ec9",
   "metadata": {},
   "source": [
    "5. Escribe un programa que, dada una *lista* de strings *L*, un string *s* perteneciente a *L* y un string *t*, reemplace *s* por *t* en *L*. El programa debe mostrar la lista resultante por pantalla."
   ]
  },
  {
   "cell_type": "code",
   "execution_count": 5,
   "id": "2070b629-64bc-43ff-b25a-ce8f15de486b",
   "metadata": {},
   "outputs": [
    {
     "name": "stdout",
     "output_type": "stream",
     "text": [
      "Lista original ['manzana', 'mango', 'mango', 'mango', 'uva']\n",
      "Lista nueva ['manzana', 'durazno', 'durazno', 'durazno', 'uva']\n"
     ]
    }
   ],
   "source": [
    "s, t ='mango','durazno'\n",
    "L = ['manzana', s, s, s, 'uva']\n",
    "print ('Lista original',L)\n",
    "for i in range(len(L)):\n",
    "    if L[i] == s:\n",
    "        L[i] = t\n",
    "print ('Lista nueva',L)"
   ]
  },
  {
   "cell_type": "markdown",
   "id": "a8f16cfa-4058-402a-b6a5-edff16bdfa19",
   "metadata": {},
   "source": [
    "6. Escribe un programa que defina una *tupla* con elementos numéricos, reemplace el valor del último por un valor diferente y muestre la *tupla* por pantalla. Recuerda que las *tuplas* son inmutables. Tendrás que usar objetos intermedios."
   ]
  },
  {
   "cell_type": "code",
   "execution_count": 6,
   "id": "fa1d0c83-35d5-4b47-afd6-8f5f8fe7d46e",
   "metadata": {},
   "outputs": [
    {
     "name": "stdout",
     "output_type": "stream",
     "text": [
      "(1, 9, 8, 4, 7)\n",
      "(1, 9, 8, 4, 798)\n"
     ]
    }
   ],
   "source": [
    "tupla = (1,9,8,4,7)\n",
    "print(tupla)\n",
    "lista= list(tupla)\n",
    "lista[-1]= 798\n",
    "tupla=tuple(lista)\n",
    "print(tupla)"
   ]
  },
  {
   "cell_type": "markdown",
   "id": "58aab603-cb13-4b1f-b657-519ba0ddea81",
   "metadata": {},
   "source": [
    "7. Dada la lista [1,2,3,4,5,6,7,8] escribe un programa que, a partir de esta lista, obtenga la lista [8,6,4,2] y la muestre por pantalla."
   ]
  },
  {
   "cell_type": "code",
   "execution_count": 7,
   "id": "b276f1dc-00b4-4236-8e49-a2c9702a226f",
   "metadata": {},
   "outputs": [
    {
     "name": "stdout",
     "output_type": "stream",
     "text": [
      "[8, 6, 4, 2]\n"
     ]
    }
   ],
   "source": [
    "l1=[1,2,3,4,5,6,7,8]\n",
    "l2=[]\n",
    "for i in l1:\n",
    "    rest = i%2\n",
    "    if rest==0:\n",
    "        l2 += [i]\n",
    "l2.reverse()\n",
    "print(l2)"
   ]
  },
  {
   "cell_type": "markdown",
   "id": "85bb3325-90b7-4387-a18e-4398a5095b32",
   "metadata": {},
   "source": [
    "8. Escribe un programa que, dada una tupla y un índice válido *i*, elimine el elemento de la tupla que se encuentra en la posición *i*. Para este ejercicio sólo puedes usar objetos de tipo tupla. No puedes convetir la *tupla* a una *lista*, por ejemplo."
   ]
  },
  {
   "cell_type": "code",
   "execution_count": 8,
   "id": "d6f32380-d12b-48ab-834d-2a7ec9980f92",
   "metadata": {},
   "outputs": [
    {
     "name": "stdout",
     "output_type": "stream",
     "text": [
      "(1, 2, 4, 5)\n"
     ]
    }
   ],
   "source": [
    "tupla = (1,2,3,4,5)\n",
    "i =2\n",
    "tupla2 = tupla[:i]+ tupla[i+1:]\n",
    "print(tupla2)"
   ]
  },
  {
   "cell_type": "markdown",
   "id": "b59eb947-345f-468b-a4ce-2f02532c011b",
   "metadata": {},
   "source": [
    "9. Escribe un programa que obtenga la mediana de una *lista* de números. Recuerda que la mediana *M* de una lista de números *L* es el número que cumple la siguiente propiedad: la mitad de los números de *L* son superiores a *M* y la otra mitad son inferiores. Cuando el número de elementos de *L* es par, se puede considerar que hay dos medianas. No obstante, en este ejercicio consideraremos que únicamente existe una mediana."
   ]
  },
  {
   "cell_type": "code",
   "execution_count": 9,
   "id": "3dbb6183-a4f3-43ce-98f2-fa9220c06f51",
   "metadata": {},
   "outputs": [
    {
     "name": "stdout",
     "output_type": "stream",
     "text": [
      "[3, 5, 5, 8, 9, 9, 14]\n",
      "La media es  8\n"
     ]
    }
   ],
   "source": [
    "lista=[3,9,9,5,8,14,5]\n",
    "lista.sort()\n",
    "i= (len(lista)) /2\n",
    "print(lista)\n",
    "print ('La media es ',lista[int(i)]) "
   ]
  },
  {
   "cell_type": "code",
   "execution_count": null,
   "id": "df01d66a-1485-4fa5-8a09-91fd1c7a0f77",
   "metadata": {},
   "outputs": [],
   "source": []
  }
 ],
 "metadata": {
  "kernelspec": {
   "display_name": "Python 3 (ipykernel)",
   "language": "python",
   "name": "python3"
  },
  "language_info": {
   "codemirror_mode": {
    "name": "ipython",
    "version": 3
   },
   "file_extension": ".py",
   "mimetype": "text/x-python",
   "name": "python",
   "nbconvert_exporter": "python",
   "pygments_lexer": "ipython3",
   "version": "3.11.13"
  }
 },
 "nbformat": 4,
 "nbformat_minor": 5
}
