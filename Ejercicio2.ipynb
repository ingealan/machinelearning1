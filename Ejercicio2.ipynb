{
 "cells": [
  {
   "cell_type": "markdown",
   "id": "a7086ff2-71ae-4d21-98b9-8fa3f5c2d67f",
   "metadata": {},
   "source": [
    "<img src=\"img/Recurso-26.png\" width=\"200\">\n",
    "\n",
    "## 01MIAR - Python 101, Estructuras de Control\n",
    "\n",
    "![logo](img/python_logo.png)\n",
    "\n",
    "*Alan Solano*"
   ]
  },
  {
   "cell_type": "markdown",
   "id": "7313a175-73b1-47aa-ba26-bd3c1fe74e92",
   "metadata": {},
   "source": [
    "# Ejercicios"
   ]
  },
  {
   "cell_type": "markdown",
   "id": "8cac643b-8c45-4c8e-bb17-97cef8d624a6",
   "metadata": {},
   "source": [
    "1. Escribe un programa que calcule la suma de todos los elementos de una *lista* dada. La lista sólo puede contener elementos numéricos."
   ]
  },
  {
   "cell_type": "code",
   "execution_count": 170,
   "id": "784ed0b1-a0f3-412a-9b99-1e3e6792fa57",
   "metadata": {},
   "outputs": [
    {
     "name": "stdout",
     "output_type": "stream",
     "text": [
      "17\n"
     ]
    }
   ],
   "source": [
    "l1 = [1,2,3,6,4,1]\n",
    "total, i = 0, 0\n",
    "for i in range(len(l1)):\n",
    "    total = total + l1[i]\n",
    "print(total)"
   ]
  },
  {
   "cell_type": "markdown",
   "id": "c575cbf2-fe8e-4ef8-ac0e-ddce5e491152",
   "metadata": {},
   "source": [
    "2. Dada una lista con elementos duplicados, escribir un programa que muestre una nueva lista con el mismo contenido que la primera pero sin elementos duplicados. Para este ejercicio, no puedes hacer uso de objetos de tipo 'Set'. "
   ]
  },
  {
   "cell_type": "code",
   "execution_count": 14,
   "id": "0d965b21-cda5-4815-864e-802b6f440979",
   "metadata": {},
   "outputs": [
    {
     "name": "stdout",
     "output_type": "stream",
     "text": [
      "[1, 2, 3, 4, 5, 6, 7, 9, 11, 34, 41]\n"
     ]
    }
   ],
   "source": [
    "l1 = [1,2,2,3,4,4,5,6,6,7,9,11,34,41]\n",
    "l2 = []\n",
    "for i in l1:\n",
    "    if i not in l2:\n",
    "        l2 += [i]\n",
    "print(l2)"
   ]
  },
  {
   "cell_type": "markdown",
   "id": "0022ab3d-b69b-47d6-8359-ad65cd50e495",
   "metadata": {},
   "source": [
    "3. Escribe un programa que construya un diccionario que contenga un número (entre 1 y *n*) de elementos de esta forma: (x, x*x). Ejemplo: para n = 5, el diccionario resultante sería {1: 1, 2: 4, 3: 9, 4: 16, 5: 25}\n"
   ]
  },
  {
   "cell_type": "code",
   "execution_count": 171,
   "id": "0e54735c-df65-4b3c-baa0-707578f4683e",
   "metadata": {},
   "outputs": [
    {
     "name": "stdin",
     "output_type": "stream",
     "text": [
      "Ingrese un número para el diccionario 6\n"
     ]
    },
    {
     "name": "stdout",
     "output_type": "stream",
     "text": [
      "{1: 1, 2: 4, 3: 9, 4: 16, 5: 25, 6: 36}\n"
     ]
    }
   ],
   "source": [
    "n = int(input('Ingrese un número para el diccionario'))\n",
    "di = {} \n",
    "for i in range(1,n+1):\n",
    "    el = i*i\n",
    "    di[i] = el \n",
    "print(di)"
   ]
  },
  {
   "cell_type": "markdown",
   "id": "60381cbb-13e1-4e95-b75e-1deab0499a67",
   "metadata": {},
   "source": [
    "4. Escribe un programa que, dada una lista de palabras, compruebe si alguna empieza por 'a' y tiene más de 9 caracteres. Si dicha palabra existe, el programa deberá terminar en el momento exacto de encontrarla. El programa también debe mostrar un mensaje apropiado por pantalla que indique el éxito o el fracaso de la búsqueda. En caso de éxito, también se mostrará por pantalla la palabra encontrada."
   ]
  },
  {
   "cell_type": "code",
   "execution_count": 49,
   "id": "93a43ebc-481b-4dc6-874b-b69922306cbc",
   "metadata": {},
   "outputs": [
    {
     "name": "stdout",
     "output_type": "stream",
     "text": [
      "Exitooo! La palabra encontrada fue arquimedes\n"
     ]
    }
   ],
   "source": [
    "lista = ['arriba','algo','arquimedes','aro','argolla']\n",
    "for palabra in lista:\n",
    "    if 'a' == palabra[0] and len(palabra)> 9:\n",
    "        print('Exitooo! La palabra encontrada fue',palabra)\n",
    "        break\n",
    "else:\n",
    "    print('No se encontró ninguna palabra que empiece en a y tenga mas de 9 letras')"
   ]
  },
  {
   "cell_type": "markdown",
   "id": "464d798e-ab70-4d5c-9881-4445282e2ec9",
   "metadata": {},
   "source": [
    "5. Dada una lista *L* de números positivos, escribir un programa que muestre otra lista (ordenada) que contenga todo índice *i* que cumpla la siguiente condición: *L[i]* es múltiplo de 3. Por ejemplo, dada la lista *L* = [3,5,13,12,1,9] el programa mostrará la lista [0,3,5] dado que *L[0], L[3] y L[5]* son, respectivamente, 3, 12 y 9, que son los únicos múltiplos de 3 que hay en *L*."
   ]
  },
  {
   "cell_type": "code",
   "execution_count": 64,
   "id": "2070b629-64bc-43ff-b25a-ce8f15de486b",
   "metadata": {},
   "outputs": [
    {
     "name": "stdout",
     "output_type": "stream",
     "text": [
      "[1, 2, 5, 7, 11, 12, 13]\n"
     ]
    }
   ],
   "source": [
    "L = [5,9,3,1,5,18,13,30,5,8,145,45,33,36]\n",
    "L2 = []\n",
    "for i in L:\n",
    "    if i%3==0:\n",
    "        L2 += [L.index(i)] \n",
    "print(L2)"
   ]
  },
  {
   "cell_type": "markdown",
   "id": "a8f16cfa-4058-402a-b6a5-edff16bdfa19",
   "metadata": {},
   "source": [
    "6. Dado un diccionario cuyos elementos son pares de tipo string y numérico (es decir, las claves son de tipo 'str' y los valores son de tipo 'int' o 'float'), escribe un programa que muestre por pantalla la clave cuyo valor asociado representa el valor númerico más alto de todo el diccionario. Por ejemplo, para el diccionario {'a': 4.3, 'b': 1, 'c': 7.8, 'd': -5} la respuesta sería 'c', dado que 7.8 es el valor más alto de los números 4.3, 1, 7.8 y -5."
   ]
  },
  {
   "cell_type": "code",
   "execution_count": 81,
   "id": "fa1d0c83-35d5-4b47-afd6-8f5f8fe7d46e",
   "metadata": {},
   "outputs": [
    {
     "name": "stdout",
     "output_type": "stream",
     "text": [
      "La clave con el valor mas alto es c  con un valor de 17\n"
     ]
    }
   ],
   "source": [
    "di = {'a':-9.5,'b':5,'c':17,'d':3.75,'e':15}\n",
    "alto, ind = float('-inf'), 0\n",
    "for key in di:\n",
    "    if di[key] > alto:\n",
    "        alto = di[key]\n",
    "        ind = key\n",
    "print('La clave con el valor mas alto es',ind,' con un valor de',alto)"
   ]
  },
  {
   "cell_type": "markdown",
   "id": "58aab603-cb13-4b1f-b657-519ba0ddea81",
   "metadata": {},
   "source": [
    "7. Dada la lista *a* = [2, 4, 6, 8] y la lista *b* = [7, 11, 15, 22], escribe un programa que itere las listas *a* y *b* y multiplique cada elemento de *a* que sea mayor que 5 por cada elemento de *b* que sea menor que 14. El programa debe mostrar los resultados por pantalla."
   ]
  },
  {
   "cell_type": "code",
   "execution_count": 94,
   "id": "178ac600-79df-4967-901d-ec0f3e453e5c",
   "metadata": {},
   "outputs": [
    {
     "name": "stdout",
     "output_type": "stream",
     "text": [
      "[42, 66, 56, 88]\n"
     ]
    }
   ],
   "source": [
    "a = [2, 4, 6, 8]\n",
    "b = [7, 11, 15, 22]\n",
    "l = []\n",
    "for i in a:\n",
    "    if i > 5:\n",
    "        for bs in b:\n",
    "            if bs < 14:\n",
    "                l += [i * bs]\n",
    "print(l)"
   ]
  },
  {
   "cell_type": "markdown",
   "id": "85bb3325-90b7-4387-a18e-4398a5095b32",
   "metadata": {},
   "source": [
    "8. Escribir un programa que pida un valor numérico X al usuario. Para ello podéis hacer uso de la función predefinida 'input'. El programa deberá mostrar por pantalla el resultado de la división 10/X. En caso de que el usuario introduzca valores no apropiados, el programa deberá gestionar correctamente las excepciones, por ejemplo, mostrando mensajes informativos por pantalla.\n"
   ]
  },
  {
   "cell_type": "code",
   "execution_count": 109,
   "id": "d6f32380-d12b-48ab-834d-2a7ec9980f92",
   "metadata": {},
   "outputs": [
    {
     "name": "stdin",
     "output_type": "stream",
     "text": [
      "Ingrese un numero sobre el cual se dividira 10 0\n"
     ]
    },
    {
     "name": "stdout",
     "output_type": "stream",
     "text": [
      "Su peticion se capturo, ingrese un valor correcto\n"
     ]
    }
   ],
   "source": [
    "try:\n",
    "    n = int(input('Ingrese un número sobre el cual se dividira 10'))\n",
    "    if n < 0:\n",
    "        print('El número no puede ser negativo')\n",
    "    else:\n",
    "        res= 10/n\n",
    "        print('El resultado es',res)\n",
    "except ValueError:\n",
    "   print('Ingrese un valor numerico')\n",
    "except:\n",
    "    print('Su peticion se capturo, ingrese un valor correcto')"
   ]
  },
  {
   "cell_type": "markdown",
   "id": "b59eb947-345f-468b-a4ce-2f02532c011b",
   "metadata": {},
   "source": [
    "9. Escribir un programa que cree un *diccionario* cualquiera. Posteriormente, el programa pedirá al usuario (a través de la función predefinida 'input') que introduzca una clave del diccionario. Si la clave introducida es correcta (es decir, existe en el diccionario), el programa mostrará por pantalla el valor asociado a dicha clave. En caso de que la clave no exista, el programa gestionará de manera apropiada el error, por ejemplo, mostrando un mensaje informativo al usuario."
   ]
  },
  {
   "cell_type": "code",
   "execution_count": 120,
   "id": "3dbb6183-a4f3-43ce-98f2-fa9220c06f51",
   "metadata": {},
   "outputs": [
    {
     "name": "stdin",
     "output_type": "stream",
     "text": [
      "Ingrese una clave a\n"
     ]
    },
    {
     "name": "stdout",
     "output_type": "stream",
     "text": [
      "El valor de la clave a es 18\n"
     ]
    }
   ],
   "source": [
    "di = {'a':18,'b':19}\n",
    "key= str(input('Ingrese una clave'))\n",
    "try:\n",
    "    print('El valor de la clave',key,'es',di[key])\n",
    "except KeyError:\n",
    "    print('Su peticion se capturo, ingrese una clave correcta')"
   ]
  },
  {
   "cell_type": "markdown",
   "id": "34b1269e-c212-42b6-b65c-7127ef1c1357",
   "metadata": {},
   "source": [
    "10. Escribe una *list comprehension* que construya una lista con los números *enteros* positivos de una lista de números dada. La lista original puede incluir números de tipo *float*, los cuales deben ser descartados."
   ]
  },
  {
   "cell_type": "code",
   "execution_count": 131,
   "id": "5105682f-f48b-495d-a0cf-b816689348ed",
   "metadata": {},
   "outputs": [
    {
     "name": "stdout",
     "output_type": "stream",
     "text": [
      "[5, 9, 15, 7]\n"
     ]
    }
   ],
   "source": [
    "l1 = [5, 4.5 ,9 ,3.2 ,3.9 ,15, 7 ,7.1]\n",
    "l2 = [ x for x in l1 if type(x) == int]\n",
    "print(l2)"
   ]
  },
  {
   "cell_type": "markdown",
   "id": "5a4df9ce-2724-4ff6-88b5-1339547034fb",
   "metadata": {},
   "source": [
    "11. Escribe una *set comprehension* que, dada una palabra, construya un conjunto que contenga las vocales de dicha palabra."
   ]
  },
  {
   "cell_type": "code",
   "execution_count": 140,
   "id": "ab9ea260-419f-4c7b-9a66-5455eb7bf38b",
   "metadata": {},
   "outputs": [
    {
     "name": "stdin",
     "output_type": "stream",
     "text": [
      "Ingrese una palabra murcielago\n"
     ]
    },
    {
     "name": "stdout",
     "output_type": "stream",
     "text": [
      "Las vocales de su palabra son ['u', 'i', 'e', 'a', 'o']\n"
     ]
    }
   ],
   "source": [
    "n = input('Ingrese una palabra')\n",
    "l2 = [voc for voc in n if voc in 'aeiou']\n",
    "print ('Las vocales de su palabra son',l2)"
   ]
  },
  {
   "cell_type": "markdown",
   "id": "6a7e7559-ea79-4e34-9bbe-e76ce7e67a83",
   "metadata": {},
   "source": [
    "12. Escribe una *list comprehension* que construya una lista con todos los números del 0 al 50 que contengan el dígito 3. El resultado será: [3, 13, 23, 30, 31, 32, 33, 34, 35, 36, 37, 38, 39, 43]."
   ]
  },
  {
   "cell_type": "code",
   "execution_count": 157,
   "id": "92b84d56-cdc9-4a2f-892e-2a0b20fd20bf",
   "metadata": {},
   "outputs": [
    {
     "name": "stdout",
     "output_type": "stream",
     "text": [
      "[3, 13, 23, 30, 31, 32, 33, 34, 35, 36, 37, 38, 39, 43]\n"
     ]
    }
   ],
   "source": [
    "l = [ num for num in range(50) if '3' in str(num)]\n",
    "print(l)"
   ]
  },
  {
   "cell_type": "markdown",
   "id": "8bdc4de6-87e0-4895-a43a-a3bb9c240150",
   "metadata": {},
   "source": [
    "13. Escribe una *dictionary comprehension* que construya un diccionario que incluya los tamaños de cada palabra en una frase dada. Ejemplo: el resultado para la frase \"Soy un ser humano\" será {'Soy': 3, 'un': 2, 'ser': 3, 'humano': 6}"
   ]
  },
  {
   "cell_type": "code",
   "execution_count": 164,
   "id": "514475cf-061a-4c68-b05d-2df21c0b04f3",
   "metadata": {},
   "outputs": [
    {
     "name": "stdin",
     "output_type": "stream",
     "text": [
      "Ingrese una frase hola soy alan\n"
     ]
    },
    {
     "name": "stdout",
     "output_type": "stream",
     "text": [
      "{'hola': 4, 'soy': 3, 'alan': 4}\n"
     ]
    }
   ],
   "source": [
    "pal = input('Ingrese una frase')\n",
    "pal = pal.split()\n",
    "dicc = {pal: len(pal) for pal in pal}\n",
    "print (dicc)"
   ]
  },
  {
   "cell_type": "markdown",
   "id": "2c6b5c10-d540-49b4-b8c9-8c419e816d9f",
   "metadata": {},
   "source": [
    "14. Escribe una *list comprehension* que construya una lista que incluya todos los números del 1 al 10 en orden. La primera mitad se mostrarán en formato numérico; la segunda mitad en texto. Es decir, el resultado será: [1, 2, 3, 4, 5, 'seis', 'siete', 'ocho', 'nueve', 'diez']."
   ]
  },
  {
   "cell_type": "code",
   "execution_count": 168,
   "id": "f90cc4f3-2ea8-4d36-9c6e-968799f76509",
   "metadata": {},
   "outputs": [
    {
     "name": "stdout",
     "output_type": "stream",
     "text": [
      "[1, 2, 3, 4, 5, 'seis', 'siete', 'ocho', 'nueve', 'diez']\n"
     ]
    }
   ],
   "source": [
    "l= [num for num in range(1,6)]+['seis', 'siete', 'ocho', 'nueve', 'diez']\n",
    "print(l)"
   ]
  },
  {
   "cell_type": "markdown",
   "id": "90da4e9b-ed6f-437a-a1cc-27dc8389b9e8",
   "metadata": {},
   "source": [
    "## Link del repositorio : https://github.com/ingealan/machinelearning1"
   ]
  }
 ],
 "metadata": {
  "kernelspec": {
   "display_name": "Python [conda env:machinelearning1]",
   "language": "python",
   "name": "conda-env-machinelearning1-py"
  },
  "language_info": {
   "codemirror_mode": {
    "name": "ipython",
    "version": 3
   },
   "file_extension": ".py",
   "mimetype": "text/x-python",
   "name": "python",
   "nbconvert_exporter": "python",
   "pygments_lexer": "ipython3",
   "version": "3.11.13"
  }
 },
 "nbformat": 4,
 "nbformat_minor": 5
}
