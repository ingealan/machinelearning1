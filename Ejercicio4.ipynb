{
 "cells": [
  {
   "cell_type": "markdown",
   "id": "a7086ff2-71ae-4d21-98b9-8fa3f5c2d67f",
   "metadata": {},
   "source": [
    "<img src=\"img/Recurso-26.png\" width=\"200\">\n",
    "\n",
    "## 01MIAR - Python 101, Ficheros\n",
    "\n",
    "![logo](img/python_logo.png)\n",
    "\n",
    "*Alan Solano*"
   ]
  },
  {
   "cell_type": "markdown",
   "id": "7313a175-73b1-47aa-ba26-bd3c1fe74e92",
   "metadata": {},
   "source": [
    "# Ejercicios"
   ]
  },
  {
   "cell_type": "markdown",
   "id": "8cac643b-8c45-4c8e-bb17-97cef8d624a6",
   "metadata": {},
   "source": [
    "1. Escribe una función que reciba una ruta de un fichero de texto y una cadena de caracteres a buscar y determine si la cadena aparece en el fichero."
   ]
  },
  {
   "cell_type": "code",
   "execution_count": 1,
   "id": "784ed0b1-a0f3-412a-9b99-1e3e6792fa57",
   "metadata": {},
   "outputs": [
    {
     "name": "stdout",
     "output_type": "stream",
     "text": [
      "True\n"
     ]
    }
   ],
   "source": [
    "def func1(fi,txt):\n",
    "    with open(fi) as f:\n",
    "        print(txt in f.read())\n",
    "    \n",
    "func1('res/lista_compra.txt','Carne')"
   ]
  },
  {
   "cell_type": "markdown",
   "id": "c575cbf2-fe8e-4ef8-ac0e-ddce5e491152",
   "metadata": {},
   "source": [
    "2. Escribe una función que reciba una lista, una ruta destino y un número *n*. La función debe crear un fichero en la ruta especificada. El contenido del fichero serán los primeros *n* elementos de la lista. La función debe controlar de manera apropiada los posibles valores de *n* que estén fuera de rango."
   ]
  },
  {
   "cell_type": "code",
   "execution_count": 2,
   "id": "0d965b21-cda5-4815-864e-802b6f440979",
   "metadata": {},
   "outputs": [],
   "source": [
    "import os\n",
    "def func2(li,des,num):\n",
    "    if num <= 0 or num > len(li):\n",
    "        print('El numero esta fuera del rango de la lista')\n",
    "        return\n",
    "    else:\n",
    "        ruta = os.path.join(des, \"listaa.txt\")\n",
    "        with open(ruta, 'w') as ficheroo:\n",
    "            for i in range(num):\n",
    "                ficheroo.write(str(li[i]))\n",
    "            \n",
    "lista=[1,2,3,4,5,6,7,8,9,10]\n",
    "func2(lista,'res', 2)"
   ]
  },
  {
   "cell_type": "markdown",
   "id": "0022ab3d-b69b-47d6-8359-ad65cd50e495",
   "metadata": {},
   "source": [
    "3. Escribe una función que reciba una ruta de un fichero de texto devuelva un diccionario con la frecuencia de aparición de cada palabra. Ejemplo: un fichero que contenga la frase 'es mejor que venga que que no venga' devolverá el siguiente diccionario: {'es' : 1, 'mejor' : 1, 'que' : 3, 'venga' : 2, 'no' : 1}. Para dividir un string en palabras puedes hacer uso del método *split*."
   ]
  },
  {
   "cell_type": "code",
   "execution_count": 3,
   "id": "0e54735c-df65-4b3c-baa0-707578f4683e",
   "metadata": {},
   "outputs": [
    {
     "data": {
      "text/plain": [
       "{'Hola': 3, 'mundo': 3, 'desde': 1, 'un': 2, 'fichero': 4}"
      ]
     },
     "execution_count": 3,
     "metadata": {},
     "output_type": "execute_result"
    }
   ],
   "source": [
    "def func3(rut):\n",
    "    with open(rut) as fich:\n",
    "        li, dic= [],{}\n",
    "        texto = fich.read() \n",
    "        palabras = texto.split()\n",
    "        for i in palabras:\n",
    "            if i in dic:\n",
    "                dic[i]+=1\n",
    "            else:\n",
    "                dic[i]= 1\n",
    "        return dic\n",
    "func3('res/one_line.txt')"
   ]
  },
  {
   "cell_type": "markdown",
   "id": "90da4e9b-ed6f-437a-a1cc-27dc8389b9e8",
   "metadata": {},
   "source": [
    "## Link del repositorio : https://github.com/ingealan/machinelearning1"
   ]
  }
 ],
 "metadata": {
  "kernelspec": {
   "display_name": "Python 3 (ipykernel)",
   "language": "python",
   "name": "python3"
  },
  "language_info": {
   "codemirror_mode": {
    "name": "ipython",
    "version": 3
   },
   "file_extension": ".py",
   "mimetype": "text/x-python",
   "name": "python",
   "nbconvert_exporter": "python",
   "pygments_lexer": "ipython3",
   "version": "3.11.13"
  }
 },
 "nbformat": 4,
 "nbformat_minor": 5
}
