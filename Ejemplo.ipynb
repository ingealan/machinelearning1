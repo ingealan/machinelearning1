{
 "cells": [
  {
   "cell_type": "markdown",
   "id": "8438a9dc-2054-4bb6-ab67-738248999057",
   "metadata": {},
   "source": [
    "# Introducción\n",
    "Este es un documento de Python que me permite entender las bases de este lenguaje de programación.<br>\n",
    "<img src=\"https://programacion.net/files/article/20160603020635_python-logo.png\">\n",
    "https://github.com/ingealan/machinelearning1\n",
    "* Python lenguaje de programación\n",
    "* Java lenguaje de programación\n",
    "* Php lenguaje de programación"
   ]
  },
  {
   "cell_type": "code",
   "execution_count": null,
   "id": "23ace278-009c-4031-b07e-f246012a83dc",
   "metadata": {},
   "outputs": [],
   "source": []
  }
 ],
 "metadata": {
  "kernelspec": {
   "display_name": "Python 3 (ipykernel)",
   "language": "python",
   "name": "python3"
  },
  "language_info": {
   "codemirror_mode": {
    "name": "ipython",
    "version": 3
   },
   "file_extension": ".py",
   "mimetype": "text/x-python",
   "name": "python",
   "nbconvert_exporter": "python",
   "pygments_lexer": "ipython3",
   "version": "3.11.13"
  }
 },
 "nbformat": 4,
 "nbformat_minor": 5
}
