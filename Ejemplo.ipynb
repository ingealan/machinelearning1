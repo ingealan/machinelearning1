{
 "cells": [
  {
   "cell_type": "markdown",
<<<<<<< HEAD
   "id": "ae31171c-5b6b-451a-9f45-7e6d3cdc466d",
   "metadata": {},
   "source": [
    "# Introducción\n",
    "Este es un documento de Python que me permite entender las bases de este lenguaje de programción.<br>\n",
    "<img src=\"https://www.channelpartner.es/wp-content/uploads/2022/11/79456_49.jpg\">\n",
    "https://github.com/ElvisDavis/machinepriodo25-25/blob/main/PAO25_25_02_Python_Datatype.ipynb\n",
    "* Python lenguaje de programción\n",
    "* Java de Programación\n",
    "  * Php lenguaje de programación "
=======
   "id": "8438a9dc-2054-4bb6-ab67-738248999057",
   "metadata": {},
   "source": [
    "# Introducción\n",
    "Este es un documento de Python que me permite entender las bases de este lenguaje de programación.<br>\n",
    "<img src=\"https://programacion.net/files/article/20160603020635_python-logo.png\">\n",
    "https://github.com/ingealan/machinelearning1\n",
    "* Python lenguaje de programación\n",
    "* Java lenguaje de programación\n",
    "* Php lenguaje de programación\n",
    "<br>\n",
    "<button type=\"button\">¡Haz clic en mí!</button>\n",
    "<br>\n",
    "- Uno\n",
    "+ Dos\n",
    "* Tres\n",
    "---\n",
    "[ITQ](https://www.itq.edu.ec)"
>>>>>>> 1545ed00c7a2840cd98221a61a3a39db8c984cc0
   ]
  },
  {
   "cell_type": "code",
<<<<<<< HEAD
   "execution_count": 8,
   "id": "c38ed2d5-e487-41b5-a57b-7ff4ab0be414",
=======
   "execution_count": 7,
   "id": "23ace278-009c-4031-b07e-f246012a83dc",
>>>>>>> 1545ed00c7a2840cd98221a61a3a39db8c984cc0
   "metadata": {},
   "outputs": [
    {
     "name": "stdout",
     "output_type": "stream",
     "text": [
<<<<<<< HEAD
      "el resultado de a es:  5\n"
=======
      "Esl resultado de a es: 5\n"
>>>>>>> 1545ed00c7a2840cd98221a61a3a39db8c984cc0
     ]
    }
   ],
   "source": [
<<<<<<< HEAD
    "# Estos es un comentario\n",
    "a= 5\n",
    "print (\"el resultado de a es: \", a)"
   ]
  },
  {
   "cell_type": "code",
   "execution_count": 1,
   "id": "38240236-d828-429f-b713-02e6dee59573",
   "metadata": {},
   "outputs": [
    {
     "data": {
      "text/plain": [
       "<function print(*args, sep=' ', end='\\n', file=None, flush=False)>"
      ]
     },
     "execution_count": 1,
     "metadata": {},
     "output_type": "execute_result"
    }
   ],
   "source": [
    "print "
=======
    "# Eso es un comentario\n",
    "a=5\n",
    "print(\"El resultado de a es:\",a)\n"
>>>>>>> 1545ed00c7a2840cd98221a61a3a39db8c984cc0
   ]
  },
  {
   "cell_type": "code",
   "execution_count": null,
<<<<<<< HEAD
   "id": "9427ee81-d7f9-4e88-b298-321c4559f084",
=======
   "id": "300a53f1-7cdc-4969-a74f-cd6c4e55af68",
>>>>>>> 1545ed00c7a2840cd98221a61a3a39db8c984cc0
   "metadata": {},
   "outputs": [],
   "source": []
  }
 ],
 "metadata": {
  "kernelspec": {
   "display_name": "Python 3 (ipykernel)",
   "language": "python",
   "name": "python3"
  },
  "language_info": {
   "codemirror_mode": {
    "name": "ipython",
    "version": 3
   },
   "file_extension": ".py",
   "mimetype": "text/x-python",
   "name": "python",
   "nbconvert_exporter": "python",
   "pygments_lexer": "ipython3",
   "version": "3.11.13"
  }
 },
 "nbformat": 4,
 "nbformat_minor": 5
}
